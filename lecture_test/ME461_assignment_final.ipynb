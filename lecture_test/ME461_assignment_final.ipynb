{
  "cells": [
    {
      "cell_type": "markdown",
      "metadata": {
        "id": "ERVeGz67Ho89"
      },
      "source": [
        "# This is a two part assignment that involves image processing and search\n",
        "\n",
        "Part I: detect shapes and find their bounding boxes and centers.\n",
        "\n",
        "Part II: find a  path from one point to another using A*\n"
      ]
    },
    {
      "cell_type": "markdown",
      "metadata": {
        "id": "Bl9m-XrSog1A"
      },
      "source": [
        "# Group Name: Tulumba\n"
      ]
    },
    {
      "cell_type": "markdown",
      "metadata": {
        "id": "2tIXxeRlonNS"
      },
      "source": [
        "# Contributing group members:\n",
        "- Batuhan Asma\n",
        "Umut Kurt\n",
        "Ulaş Yaprak"
      ]
    },
    {
      "cell_type": "markdown",
      "metadata": {
        "id": "rETzRbiymQdk"
      },
      "source": [
        "# General expectations\n",
        "- If you use other peoples codes you find on the internet, I expect you to provide a reference.  \n",
        "- Your code should be briefly but clearly commented.  \n",
        "- Note that in both parts test images are generated based on the library downloaded from the Ineternet. Every time the test images are re-generated, i.e. your solution is executed once again later, test images will change. Hence, make sure that you do NOT do anything that is in particular to the test images you get from those functions. Indeed it is recommended that you do re-generate test images during coming up with a solution to avoid hard-coding and to see alterantive scenarios to make your code robust to anything that these functions can throw at you.  \n",
        "\n",
        "- At the end you are to submit this notebook: \n",
        "```\n",
        "File->Download->Download .ipynb\n",
        "```\n",
        "save it as ```group_name.ipynb``` and submit through ODTU Class. \n",
        "One submission per group is expected."
      ]
    },
    {
      "cell_type": "code",
      "execution_count": 2,
      "metadata": {
        "id": "yPlqtzQteMFe"
      },
      "outputs": [],
      "source": [
        "# a lot of imports, in case you need more you are welcome to add here\n",
        "import numpy as np   # for arrays, math functions, etc\n",
        "import matplotlib.pyplot as plt # for plotting\n",
        "from skimage import io  # for reading images\n",
        "import cv2  # for image processing"
      ]
    },
    {
      "cell_type": "markdown",
      "metadata": {
        "id": "4GslVDdxZADT"
      },
      "source": [
        "# Download the library function to generate images for search"
      ]
    },
    {
      "cell_type": "code",
      "execution_count": 2,
      "metadata": {
        "colab": {
          "base_uri": "https://localhost:8080/"
        },
        "id": "ztC1Z_YwZi51",
        "outputId": "0d33d0ea-6ab9-41ed-cec1-5774a3a54a63"
      },
      "outputs": [
        {
          "name": "stdout",
          "output_type": "stream",
          "text": [
            "\u001b]4;0;#191d24\u001b\\\u001b]4;1;#D19275\u001b\\\u001b]4;2;#6C808B\u001b\\\u001b]4;3;#AA9F99\u001b\\\u001b]4;4;#B9BFBE\u001b\\\u001b]4;5;#CFB4A4\u001b\\\u001b]4;6;#D9C6B4\u001b\\\u001b]4;7;#e3deda\u001b\\\u001b]4;8;#9e9b98\u001b\\\u001b]4;9;#D19275\u001b\\\u001b]4;10;#6C808B\u001b\\\u001b]4;11;#AA9F99\u001b\\\u001b]4;12;#B9BFBE\u001b\\\u001b]4;13;#CFB4A4\u001b\\\u001b]4;14;#D9C6B4\u001b\\\u001b]4;15;#e3deda\u001b\\\u001b]10;#e3deda\u001b\\\u001b]11;#191d24\u001b\\\u001b]12;#e3deda\u001b\\\u001b]13;#e3deda\u001b\\\u001b]17;#e3deda\u001b\\\u001b]19;#191d24\u001b\\\u001b]4;232;#191d24\u001b\\\u001b]4;256;#e3deda\u001b\\\u001b]708;#191d24\u001b\\--2022-01-16 06:54:00--  https://raw.githubusercontent.com/bugrakoku/bug_python_utils/main/images4.py\n",
            "Resolving raw.githubusercontent.com (raw.githubusercontent.com)... 185.199.109.133, 185.199.111.133, 185.199.108.133, ...\n",
            "Connecting to raw.githubusercontent.com (raw.githubusercontent.com)|185.199.109.133|:443... connected.\n",
            "HTTP request sent, awaiting response... 200 OK\n",
            "Length: 10674 (10K) [text/plain]\n",
            "Saving to: ‘images4.py.1’\n",
            "\n",
            "images4.py.1        100%[===================>]  10,42K  --.-KB/s    in 0,002s  \n",
            "\n",
            "2022-01-16 06:54:01 (4,34 MB/s) - ‘images4.py.1’ saved [10674/10674]\n",
            "\n"
          ]
        }
      ],
      "source": [
        "# download library\n",
        "!wget https://raw.githubusercontent.com/bugrakoku/bug_python_utils/main/images4.py"
      ]
    },
    {
      "cell_type": "markdown",
      "metadata": {
        "id": "9DDq8ZA99dC5"
      },
      "source": [
        "# Part I: Shape detection using techniques introduced in class\n",
        "\n",
        "In this part you are to detect the location and type of objects in an image.  \n",
        "This image is automatically (and randomly) generated as shown below. Yet this image generating function also returns the ground truth, so that you can evaluate the performance of you approach.\n",
        "\n",
        "Start with the image generator import"
      ]
    },
    {
      "cell_type": "code",
      "execution_count": 3,
      "metadata": {
        "id": "60mwyghs9w7z"
      },
      "outputs": [],
      "source": [
        "from images4 import Shapes  # for reading images"
      ]
    },
    {
      "cell_type": "markdown",
      "metadata": {
        "id": "aCFVlD8BaH-L"
      },
      "source": [
        "## Test image generation\n",
        "Run the following cell couple of times to see the generation of a new image.\n",
        "Note that ```gt``` contains the *ground truth* about shapes, where first the rectangle that surrounds the shape (i.e. bounding box) is given using its left top and right bottom corner coordinates. Then the name of the shape is given."
      ]
    },
    {
      "cell_type": "code",
      "execution_count": 4,
      "metadata": {
        "colab": {
          "base_uri": "https://localhost:8080/",
          "height": 425
        },
        "id": "kmcpQKE4aKhI",
        "outputId": "0e50aa7b-28a1-4485-9115-1f01c0ff6276"
      },
      "outputs": [
        {
          "name": "stderr",
          "output_type": "stream",
          "text": [
            "Clipping input data to the valid range for imshow with RGB data ([0..1] for floats or [0..255] for integers).\n"
          ]
        },
        {
          "data": {
            "text/plain": [
              "[(((207, 451), (234, 478)), 'ring'),\n",
              " (((247, 298), (289, 378)), 'frame'),\n",
              " (((105, 258), (134, 287)), 'circle'),\n",
              " (((411, 113), (448, 150)), 'ring'),\n",
              " (((41, 543), (81, 611)), 'frame'),\n",
              " (((299, 58), (399, 105)), 'frame'),\n",
              " (((141, 178), (181, 218)), 'square')]"
            ]
          },
          "execution_count": 4,
          "metadata": {},
          "output_type": "execute_result"
        },
        {
          "data": {
            "image/png": "[encoded data removed]",
            "text/plain": [
              "<Figure size 432x288 with 1 Axes>"
            ]
          },
          "metadata": {
            "needs_background": "light"
          },
          "output_type": "display_data"
        }
      ],
      "source": [
        "img, gt = Shapes()  # read in the image and ground truth\n",
        "plt.imshow(img)  # show the image\n",
        "gt  # show the ground truth"
      ]
    },
    {
      "cell_type": "markdown",
      "metadata": {
        "id": "WDCn2aVJem-8"
      },
      "source": [
        "## About the shapes and colors\n",
        "As shown above when you call the ```Shapes()``` function it returns an image followed by the ground truth about these shapes.  \n",
        "\n",
        "Note that there are a total of 5 shapes:  \n",
        "- circle\n",
        "- ring _(i.e. a circle with a circular hole in it)_\n",
        "- square\n",
        "- rectangle\n",
        "- frame _(i.e. a rectangle with a rectangular hole in it)_\n",
        "\n",
        "Shapes have a total of 6 different colors. Let's see if you can quickly find what these 6 colors are.  \n",
        "_Hint: colorz and randomColor(), hmmm but where is that?_  \n",
        "_Another Hint: recall linux tutorials, ask yourself where Shapes() come from and in a code block try something that starts with !_"
      ]
    },
    {
      "cell_type": "code",
      "execution_count": 5,
      "metadata": {
        "id": "pNLzzlqsdfx6"
      },
      "outputs": [
        {
          "name": "stdout",
          "output_type": "stream",
          "text": [
            "\u001b]4;0;#191d24\u001b\\\u001b]4;1;#D19275\u001b\\\u001b]4;2;#6C808B\u001b\\\u001b]4;3;#AA9F99\u001b\\\u001b]4;4;#B9BFBE\u001b\\\u001b]4;5;#CFB4A4\u001b\\\u001b]4;6;#D9C6B4\u001b\\\u001b]4;7;#e3deda\u001b\\\u001b]4;8;#9e9b98\u001b\\\u001b]4;9;#D19275\u001b\\\u001b]4;10;#6C808B\u001b\\\u001b]4;11;#AA9F99\u001b\\\u001b]4;12;#B9BFBE\u001b\\\u001b]4;13;#CFB4A4\u001b\\\u001b]4;14;#D9C6B4\u001b\\\u001b]4;15;#e3deda\u001b\\\u001b]10;#e3deda\u001b\\\u001b]11;#191d24\u001b\\\u001b]12;#e3deda\u001b\\\u001b]13;#e3deda\u001b\\\u001b]17;#e3deda\u001b\\\u001b]19;#191d24\u001b\\\u001b]4;232;#191d24\u001b\\\u001b]4;256;#e3deda\u001b\\\u001b]708;#191d24\u001b\\"
          ]
        }
      ],
      "source": [
        "# following up on Hints\n",
        "!"
      ]
    },
    {
      "cell_type": "markdown",
      "metadata": {
        "id": "FRhzvbAxeFHI"
      },
      "source": [
        "<hr>\n"
      ]
    },
    {
      "cell_type": "markdown",
      "metadata": {
        "id": "WWbcwkLQeIOr"
      },
      "source": [
        "## PART I.a - Clean as a whistle :)\n",
        "\n",
        "First you will work on a clean image, then repeat the same procedure for a noisy one."
      ]
    },
    {
      "cell_type": "markdown",
      "metadata": {
        "id": "z2DVLNegv4RO"
      },
      "source": [
        "### Generate the test image"
      ]
    },
    {
      "cell_type": "code",
      "execution_count": 6,
      "metadata": {
        "colab": {
          "base_uri": "https://localhost:8080/",
          "height": 463
        },
        "id": "O5r1wqsxv3Oy",
        "outputId": "0121d374-79d4-4d55-b6b3-9b46c20a1c59"
      },
      "outputs": [
        {
          "name": "stderr",
          "output_type": "stream",
          "text": [
            "Clipping input data to the valid range for imshow with RGB data ([0..1] for floats or [0..255] for integers).\n"
          ]
        },
        {
          "data": {
            "text/plain": [
              "[(((107, 434), (142, 500)), 'frame'),\n",
              " (((290, 571), (318, 599)), 'circle'),\n",
              " (((351, 324), (427, 370)), 'frame'),\n",
              " (((186, 43), (237, 74)), 'frame'),\n",
              " (((45, 82), (88, 162)), 'frame'),\n",
              " (((434, 176), (478, 220)), 'square'),\n",
              " (((259, 512), (284, 537)), 'square'),\n",
              " (((150, 228), (176, 254)), 'ring')]"
            ]
          },
          "execution_count": 6,
          "metadata": {},
          "output_type": "execute_result"
        },
        {
          "data": {
            "image/png": "[encoded data removed]",
            "text/plain": [
              "<Figure size 432x288 with 1 Axes>"
            ]
          },
          "metadata": {
            "needs_background": "light"
          },
          "output_type": "display_data"
        }
      ],
      "source": [
        "test_image, GTshapes = Shapes()  # read in the image and ground truth\n",
        "plt.imshow(test_image)  # show the image\n",
        "GTshapes  # show the ground truth"
      ]
    },
    {
      "cell_type": "markdown",
      "metadata": {
        "id": "qy5rSjrIw8F2"
      },
      "source": [
        "###Process the image to find regions of interest\n",
        "Process ```test_image``` to find the list of colored regions.  \n",
        "Put them in a varialbe named ```found_shapes``` in the same format with ```GTshapes```.  \n",
        "\n",
        "You can add as many code blocks below as needed."
      ]
    },
    {
      "cell_type": "code",
      "execution_count": 7,
      "metadata": {
        "colab": {
          "base_uri": "https://localhost:8080/",
          "height": 369
        },
        "id": "MX7tdCA3w62j",
        "outputId": "11c227a7-f800-4631-f047-a2a43dc848fe"
      },
      "outputs": [
        {
          "name": "stderr",
          "output_type": "stream",
          "text": [
            "/home/ulasyaprak/.local/lib/python3.9/site-packages/skimage/io/_plugins/matplotlib_plugin.py:150: UserWarning: Low image data range; displaying image with stretched contrast.\n",
            "  lo, hi, cmap = _get_display_range(image)\n"
          ]
        },
        {
          "data": {
            "text/plain": [
              "<matplotlib.image.AxesImage at 0x7f0b4be98340>"
            ]
          },
          "execution_count": 7,
          "metadata": {},
          "output_type": "execute_result"
        },
        {
          "data": {
            "image/png": "[encoded data removed]",
            "text/plain": [
              "<Figure size 432x288 with 2 Axes>"
            ]
          },
          "metadata": {
            "needs_background": "light"
          },
          "output_type": "display_data"
        }
      ],
      "source": [
        "# do your magic here down to the Finally region\n",
        "import cv2                                                                       #imported for connected component labeling\n",
        "from math import pi\n",
        "test_image = test_image.astype('uint8')                                          #data type is transformed to uint8\n",
        "imgGray = cv2.cvtColor(test_image,cv2.COLOR_RGB2GRAY)                            #grayscale image is produced\n",
        "imgTresh = cv2.threshold(imgGray,0,255,cv2.THRESH_BINARY)[1]                       #background and foreground object is selected using treshold\n",
        "num_labels,labels,stat,centroid = cv2.connectedComponentsWithStats(imgTresh)     #connected component labeling done by cv2 library\n",
        "found_shapes = []                                                                \n",
        "for i,j,k,l,n in stat:                                                           #connected component labeling stats leftmost, topmost, width , height and area  \n",
        "  if abs(k-l)<2 and k*l==n:                                                      #checks if shape is a square\n",
        "    found_shapes.append([(j,i),(j+l,i+k),\"square\"])                            #square is added to found_shapes list\n",
        "  elif abs(k-l)<2 and labels[round(j+l/2),round(i+k/2)] != 0:                    #checks if shape is a circle\n",
        "   found_shapes.append([(j,i),(j+l,i+k),\"circle\"])                             #circle is added to the list\n",
        "  elif abs(k-l)<2 and labels[round(j+l/2),round(i+k/2)] == 0:                    #checks if shape is a ring\n",
        "    found_shapes.append([(j,i),(j+l,i+k),\"ring\"])                             #ring is a circle with a hole\n",
        "  else:\n",
        "    if labels[round(j+l/2),round(i+k/2)] != 0:                               \n",
        "      found_shapes.append([(j,i),(j+l,i+k),\"rectangle\"])                         #checks if shape is a rectangle\n",
        "    else:  \n",
        "      found_shapes.append([(j,i),(j+l,i+k),\"frame\"])                             #checks if shape is a frame\n",
        "\n",
        "\n",
        "found_shapes.remove(found_shapes[0])                                             #remove background stats\n"
      ]
    },
    {
      "cell_type": "markdown",
      "metadata": {
        "id": "WtzlLv1ux2CU"
      },
      "source": [
        "###Finally - PART I.a: Performance Report\n",
        "Now that you, have ```found_shapes``` filled in and it is time to compare it to ```GTshapes```.  \n",
        "Compare the matching shapes from ```found_shapes``` to the ones in ```GTshapes```. Note that this is __not a manual__ matching process. __Your code should do it__.\n",
        "\n",
        "Once shapes are mathed, you should compare the center of each shape and label.  \n",
        "In a loop go over each matching shape pair and print a single line for each comparison where you tell if the shape types match, also report the pixelwise difference between matching objects. In this context center is simply the average of top left and right bottom corner coordinates."
      ]
    },
    {
      "cell_type": "code",
      "execution_count": 8,
      "metadata": {
        "colab": {
          "base_uri": "https://localhost:8080/"
        },
        "id": "CXTgILxU-4IC",
        "outputId": "1407dd8c-96c3-407b-c3f8-b09fc9b608e4"
      },
      "outputs": [
        {
          "name": "stdout",
          "output_type": "stream",
          "text": [
            "frames are matched with 0.0 pixels error in x direction,0.0 pixels error in y direction\n",
            "frames are matched with 0.0 pixels error in x direction,0.0 pixels error in y direction\n",
            "rings are matched with 0.5 pixels error in x direction,0.5 pixels error in y direction\n",
            "frames are matched with 0.0 pixels error in x direction,0.0 pixels error in y direction\n",
            "squares are matched with 0.0 pixels error in x direction,0.0 pixels error in y direction\n",
            "circles are matched with 0.5 pixels error in x direction,0.5 pixels error in y direction\n",
            "frames are matched with 0.0 pixels error in x direction,0.0 pixels error in y direction\n",
            "squares are matched with 0.0 pixels error in x direction,0.0 pixels error in y direction\n"
          ]
        }
      ],
      "source": [
        "# performance report \n",
        "GTshapes = sorted(GTshapes)                                                      #GTshapes is sorted to match with found_shapes\n",
        "i=0                                                                              #i is set to 0\n",
        "GTcentroids=[]                                                                   #List of centroid values taken from ground truth \n",
        "centroids=[]                                                                     #List of centroid values taken from found_shapes\n",
        "while i<len(GTshapes):                                                           #while i is less than the length of GTshapes\n",
        "  tempGTcentroids=[]                                                             #tempGTcentroids is set to empty list\n",
        "  tempFoundcentroids=[]                                                          #tempFoundcentroids is set to empty list\n",
        "\n",
        "  tempGTcentroids.append((GTshapes[i][0][0][1]+GTshapes[i][0][1][1])/2)          #centroid in x direction is found by simply averaging\n",
        "  tempGTcentroids.append((GTshapes[i][0][0][0]+GTshapes[i][0][1][0])/2)          #centroid in y direction is found by simply averaging\n",
        "\n",
        "  tempFoundcentroids.append((found_shapes[i][0][1]+found_shapes[i][1][1])/2)     #centroid in x direction is found by simply averaging\n",
        "  tempFoundcentroids.append((found_shapes[i][0][0]+found_shapes[i][1][0])/2)     #centroid in y direction is found by simply averaging\n",
        "  \n",
        "  \n",
        "  centroids.insert(i,tempFoundcentroids)                                         #centroids list is inserted with tempFoundcentroids\n",
        "  GTcentroids.insert(i,tempGTcentroids)                                          #GTcentroids list is inserted with tempGTcentroids\n",
        "  if GTshapes[i][1] == found_shapes[i][2]:                                       #if shape names are matching\n",
        "    x = abs(GTcentroids[i][0]-centroids[i][0])                                   #difference between ground truth and centroid in x direction\n",
        "    y = abs(GTcentroids[i][1]-centroids[i][1])                                   #difference between ground truth and centroid in y direction\n",
        "    print(f\"{GTshapes[i][1]}s are matched with {x} pixels error in x direction,{y} pixels error in y direction\") #print the shape name and difference\n",
        "  else:                                                                         #if shape names are not matching\n",
        "    print(\"Mismatched shapes!\")                                                 #print mismatched shapes\n",
        "  i=i+1\n",
        "\n"
      ]
    },
    {
      "cell_type": "markdown",
      "metadata": {
        "id": "bWxgfXoJ2L6l"
      },
      "source": [
        "##PART I.b - Dirty case\n",
        "This is the functionally the same deal as in PART I.a, but this time test image is generated as follows:"
      ]
    },
    {
      "cell_type": "markdown",
      "metadata": {
        "id": "2x6YDXLt2zDO"
      },
      "source": [
        "### Get the dirty test image"
      ]
    },
    {
      "cell_type": "code",
      "execution_count": 9,
      "metadata": {
        "colab": {
          "base_uri": "https://localhost:8080/",
          "height": 480
        },
        "id": "kRTDc1D72rnM",
        "outputId": "b3881db0-62fb-45bd-c1cb-88a35983b1d8"
      },
      "outputs": [
        {
          "name": "stderr",
          "output_type": "stream",
          "text": [
            "/home/ulasyaprak/Downloads/images4.py:200: UserWarning: test.jpg is a low contrast image\n",
            "  io.imsave('test.jpg', colorIm, quality = Imquality)\n",
            "Lossy conversion from float64 to uint8. Range [0.0, 255.0]. Convert image to uint8 prior to saving to suppress this warning.\n"
          ]
        },
        {
          "data": {
            "text/plain": [
              "[(((317, 357), (343, 403)), 'frame'),\n",
              " (((257, 105), (288, 136)), 'ring'),\n",
              " (((382, 474), (430, 566)), 'frame'),\n",
              " (((135, 428), (167, 460)), 'circle'),\n",
              " (((75, 56), (112, 93)), 'square'),\n",
              " (((436, 284), (461, 320)), 'frame'),\n",
              " (((179, 184), (217, 222)), 'circle'),\n",
              " (((33, 606), (63, 636)), 'ring'),\n",
              " (((227, 245), (247, 276)), 'frame'),\n",
              " (((350, 145), (370, 176)), 'frame')]"
            ]
          },
          "execution_count": 9,
          "metadata": {},
          "output_type": "execute_result"
        },
        {
          "data": {
            "image/png": "[encoded data removed]",
            "text/plain": [
              "<Figure size 432x288 with 1 Axes>"
            ]
          },
          "metadata": {
            "needs_background": "light"
          },
          "output_type": "display_data"
        }
      ],
      "source": [
        "test_imageD, GTshapesD = Shapes(True) # read in the image and ground truth\n",
        "plt.imshow(test_imageD) # show the image\n",
        "GTshapesD # show the ground truth"
      ]
    },
    {
      "cell_type": "markdown",
      "metadata": {
        "id": "eLQ09-mp3lVg"
      },
      "source": [
        "### check out the noisy images\n",
        "just that you can see them one by one so that you can get a feeling of the level of noise"
      ]
    },
    {
      "cell_type": "code",
      "execution_count": 10,
      "metadata": {
        "colab": {
          "base_uri": "https://localhost:8080/",
          "height": 255
        },
        "id": "Aav-uJqY3d1Z",
        "outputId": "46eb8e31-4f31-429b-853f-31353d82ae96"
      },
      "outputs": [
        {
          "data": {
            "text/plain": [
              "<matplotlib.image.AxesImage at 0x7f0b4c037220>"
            ]
          },
          "execution_count": 10,
          "metadata": {},
          "output_type": "execute_result"
        },
        {
          "data": {
            "image/png": "[encoded data removed]",
            "text/plain": [
              "<Figure size 432x288 with 1 Axes>"
            ]
          },
          "metadata": {
            "needs_background": "light"
          },
          "output_type": "display_data"
        }
      ],
      "source": [
        "ii = 3 # index of the shape to zoom into, change then index to zoom deeper in to a shape you are interested in\n",
        "io.imshow(test_imageD[GTshapesD[ii][0][0][0]:GTshapesD[ii][0][1][0], GTshapesD[ii][0][0][1]:GTshapesD[ii][0][1][1],:]) # show the image"
      ]
    },
    {
      "cell_type": "markdown",
      "metadata": {
        "id": "Vr-A4ocN68ii"
      },
      "source": [
        "###Process the image to find regions of interest\n",
        "Process ```test_imageD``` to find the list of colored regions.  \n",
        "Put them in a varialbe named ```found_shapesD``` in the same format with ```GTshapesD```.  \n",
        "\n",
        "You can add as many code blocks below as needed."
      ]
    },
    {
      "cell_type": "code",
      "execution_count": 11,
      "metadata": {
        "colab": {
          "base_uri": "https://localhost:8080/",
          "height": 369
        },
        "id": "hOZfPkhg330G",
        "outputId": "9a3d2310-a966-4fad-b986-1735bd713eb4"
      },
      "outputs": [],
      "source": [
        "# do your magic here down to the Finally region\n",
        "import cv2                                                                       #imported for connected component labeling\n",
        "from math import pi                                                             #imported for pi\n",
        "\n",
        "test_imageD = test_imageD.astype('uint8')                                       #data type is transformed to uint8\n",
        "imageR = test_imageD[:,:,0]                                                    #red channel is extracted\n",
        "imageG = test_imageD[:,:,1]                                                  #green channel is extracted\n",
        "imageB = test_imageD[:,:,2]                                                 #blue channel is extracted\n",
        "blurR = cv2.GaussianBlur(imageR,(3,3),0)                                     #red channel is blurred\n",
        "ret3,th3R = cv2.threshold(blurR,200,255,cv2.THRESH_BINARY)                  #red channel is thresholded\n",
        "blurB = cv2.GaussianBlur(imageB,(3,3),0)                                    #blue channel is blurred\n",
        "ret3,th3B = cv2.threshold(blurB,200,255,cv2.THRESH_BINARY)                #blue channel is thresholded\n",
        "blurG = cv2.GaussianBlur(imageG,(3,3),0)                                   #green channel is blurred\n",
        "ret3,th3G = cv2.threshold(blurG,200,255,cv2.THRESH_BINARY)              #green channel is thresholded\n",
        "cImage = np.zeros(imageR.shape)                                         #cImage is set to empty\n",
        "for i in range(len(cImage)):                                          #for loop is used to iterate through the image\n",
        "  for j in range(len(cImage[0])):                                  #for loop is used to iterate through the image\n",
        "    if (th3R[i][j] or th3B[i][j] or th3G[i][j]):                #if any of the channels are not empty\n",
        "      cImage[i][j]=255                                       #cImage is set to 255\n",
        "\n",
        " \n",
        "kernel = np.ones((6, 6), np.uint8)                        #dilate first then erode\n",
        "image = cv2.dilate(cImage,kernel, cv2.BORDER_REFLECT) #dilate\n",
        "image = cv2.erode(image, kernel, cv2.BORDER_REFLECT) #erode\n",
        " \n",
        "kernel = np.ones((2, 2), np.uint8)                        #erode first then dilate\n",
        "image = cv2.erode(image, kernel, cv2.BORDER_REFLECT)  #erode\n",
        "image = cv2.dilate(image,kernel, cv2.BORDER_REFLECT) #dilate\n",
        "\n",
        "\n",
        "\n",
        "\n",
        "                      #background and foreground object is selected using treshold\n"
      ]
    },
    {
      "cell_type": "code",
      "execution_count": 12,
      "metadata": {
        "colab": {
          "base_uri": "https://localhost:8080/"
        },
        "id": "oFKl53VAzIXc",
        "outputId": "a1c8311f-99f9-4439-c8c0-623261889dcb"
      },
      "outputs": [
        {
          "data": {
            "text/plain": [
              "[[(37, 610), (65, 638), 'ring'],\n",
              " [(78, 59), (113, 94), 'square'],\n",
              " [(139, 432), (168, 461), 'circle'],\n",
              " [(182, 187), (218, 223), 'circle'],\n",
              " [(230, 248), (249, 278), 'frame'],\n",
              " [(261, 109), (289, 137), 'ring'],\n",
              " [(319, 360), (345, 405), 'frame'],\n",
              " [(353, 149), (371, 177), 'frame'],\n",
              " [(384, 477), (432, 567), 'frame'],\n",
              " [(439, 287), (462, 321), 'frame']]"
            ]
          },
          "execution_count": 12,
          "metadata": {},
          "output_type": "execute_result"
        }
      ],
      "source": [
        "image = np.uint8(image)\n",
        "num_labels,labels,stat,centroid = cv2.connectedComponentsWithStats(image)     #connected component labeling done by cv2 library\n",
        "found_shapesD = []                                                                \n",
        "for i,j,k,l,n in stat:                                                           #connected component labeling stats leftmost, topmost, width , height and area  \n",
        "  if abs(k-l)<3 and abs(k*l-n)<51:                                                      #checks if shape is a square\n",
        "    found_shapesD.append([(j,i),(j+l,i+k),\"square\"])\n",
        "  elif abs(k-l)<3 and labels[round(j+l/2),round(i+k/2)] != 0:                    #checks if shape is a circle\n",
        "   found_shapesD.append([(j,i),(j+l,i+k),\"circle\"]) \n",
        "  elif abs(k-l)<3 and labels[round(j+l/2),round(i+k/2)] == 0:                    #checks if shape is a ring\n",
        "    found_shapesD.append([(j,i),(j+l,i+k),\"ring\"])\n",
        "  else:\n",
        "    if labels[round(j+l/2),round(i+k/2)] != 0:\n",
        "      found_shapesD.append([(j,i),(j+l,i+k),\"rectangle\"])                         #checks if shape is a rectangle\n",
        "    else:  \n",
        "      found_shapesD.append([(j,i),(j+l,i+k),\"frame\"])                             #checks if shape is a frame\n",
        "\n",
        "\n",
        "found_shapesD.remove(found_shapesD[0])                                             #remove background stats\n"
      ]
    },
    {
      "cell_type": "markdown",
      "metadata": {
        "id": "QGO__K957F5O"
      },
      "source": [
        "###Finally - PART I.b: Performance Report\n",
        "Having ```found_shapesD``` filled in now compare it to ```GTshapesD``` as you did above at the end of PART I.a.  \n"
      ]
    },
    {
      "cell_type": "code",
      "execution_count": 13,
      "metadata": {
        "colab": {
          "base_uri": "https://localhost:8080/"
        },
        "id": "hSaB5W05_inp",
        "outputId": "803df042-4465-4e9d-8b1e-d06e6b1b64ed"
      },
      "outputs": [
        {
          "name": "stdout",
          "output_type": "stream",
          "text": [
            "rings are matched with 3.0 pixels error in x direction,3.0 pixels error in y direction\n",
            "squares are matched with 2.0 pixels error in x direction,2.0 pixels error in y direction\n",
            "circles are matched with 2.5 pixels error in x direction,2.5 pixels error in y direction\n",
            "circles are matched with 2.0 pixels error in x direction,2.0 pixels error in y direction\n",
            "frames are matched with 2.5 pixels error in x direction,2.5 pixels error in y direction\n",
            "rings are matched with 2.5 pixels error in x direction,2.5 pixels error in y direction\n",
            "frames are matched with 2.5 pixels error in x direction,2.0 pixels error in y direction\n",
            "frames are matched with 2.5 pixels error in x direction,2.0 pixels error in y direction\n",
            "frames are matched with 2.0 pixels error in x direction,2.0 pixels error in y direction\n",
            "frames are matched with 2.0 pixels error in x direction,2.0 pixels error in y direction\n"
          ]
        }
      ],
      "source": [
        "# perofrmance report\n",
        "GTshapesD = sorted(GTshapesD)                                                      #GTshapes is sorted to match with found_shapes\n",
        "i=0\n",
        "GTcentroidsD=[]                                                                   #List of centroid values taken from ground truth \n",
        "centroidsD=[]                                                                     #List of centroid values taken from found_shapes\n",
        "while i<len(GTshapesD):\n",
        "  tempGTcentroids=[]\n",
        "  tempFoundcentroids=[]\n",
        "\n",
        "  tempGTcentroids.append((GTshapesD[i][0][0][1]+GTshapesD[i][0][1][1])/2)          #centroid in x direction is found by simply averaging\n",
        "  tempGTcentroids.append((GTshapesD[i][0][0][0]+GTshapesD[i][0][1][0])/2)          #centroid in y direction is found by simply averaging\n",
        "\n",
        "  tempFoundcentroids.append((found_shapesD[i][0][1]+found_shapesD[i][1][1])/2)     #centroid in x direction is found by simply averaging\n",
        "  tempFoundcentroids.append((found_shapesD[i][0][0]+found_shapesD[i][1][0])/2)     #centroid in y direction is found by simply averaging\n",
        "  \n",
        "  \n",
        "  centroidsD.insert(i,tempFoundcentroids)\n",
        "  GTcentroidsD.insert(i,tempGTcentroids)\n",
        "  if GTshapesD[i][1] == found_shapesD[i][2]:                                       #if shape names are matching\n",
        "    x = abs(GTcentroidsD[i][0]-centroidsD[i][0])                                   #difference between ground truth and centroid in x direction\n",
        "    y = abs(GTcentroidsD[i][1]-centroidsD[i][1])                                   #difference between ground truth and centroid in y direction\n",
        "    print(f\"{GTshapesD[i][1]}s are matched with {x} pixels error in x direction,{y} pixels error in y direction\")\n",
        "  else:\n",
        "    print(\"Mismatched shapes!\")\n",
        "  i=i+1"
      ]
    },
    {
      "cell_type": "markdown",
      "metadata": {
        "id": "oDI4cj3j_sHj"
      },
      "source": [
        "# Part II: Search from beginning to end\n",
        "In this part your code will try to find the shortest path between two points.\n"
      ]
    },
    {
      "cell_type": "markdown",
      "metadata": {
        "id": "Sy9koDzlAWzF"
      },
      "source": [
        "## Conventions\n",
        "Your serach always starts from the center of the RED box and ends at the center of the GREEN one.  \n",
        "\n",
        "BLACK is always a wall that your path CANNOT pass through. Hence, you can assume that a black pixel has infinite cost, whatever that means.  \n",
        "\n",
        "Color values for default colors are as follows:\n",
        "BLACK = (0,0,0)\n",
        "RED = (255,0,0)\n",
        "GREEN = (0,255,0)\n",
        "\n",
        "Cost of all RED and GREEN pixels are all 1.  \n",
        "\n",
        "For all other colors in the search image you will be given a dictionary that contains color values and cost of traversing a pixel with that color.  \n",
        "\n",
        "You can only move to 4-neighbors of a pixel.  \n",
        "\n",
        "Once you find the path, mark it pixel by pixel on the map with a distinct color and display it at the end.\n",
        "\n",
        "Let's import the weird maze generator."
      ]
    },
    {
      "cell_type": "code",
      "execution_count": 14,
      "metadata": {
        "id": "EVUBEV4n7Kuk"
      },
      "outputs": [],
      "source": [
        "from images4 import aMaze"
      ]
    },
    {
      "cell_type": "markdown",
      "metadata": {
        "id": "5DF734yOgs0u"
      },
      "source": [
        "## Get a test image\n"
      ]
    },
    {
      "cell_type": "code",
      "execution_count": 12,
      "metadata": {
        "id": "FoS6CrDwgkH0"
      },
      "outputs": [
        {
          "data": {
            "text/plain": [
              "array([[255,   0,   1],\n",
              "       [255,   0,   1],\n",
              "       [255,   0,   1],\n",
              "       [255,   0,   1],\n",
              "       [255,   0,   1],\n",
              "       [255,   0,   1],\n",
              "       [255,   0,   1],\n",
              "       [255,   0,   1],\n",
              "       [255,   0,   1],\n",
              "       [255,   0,   1],\n",
              "       [255,   0,   1],\n",
              "       [255,   0,   1],\n",
              "       [255,   0,   1],\n",
              "       [255,   0,   1],\n",
              "       [255,   0,   1],\n",
              "       [255,   0,   1],\n",
              "       [255,   0,   1],\n",
              "       [255,   0,   1],\n",
              "       [255,   0,   1],\n",
              "       [255,   0,   1],\n",
              "       [255,   0,   1],\n",
              "       [255,   0,   1],\n",
              "       [255,  13,   9],\n",
              "       [255,  62,  58],\n",
              "       [255, 194, 195],\n",
              "       [255, 250, 250],\n",
              "       [255, 254, 255],\n",
              "       [255, 254, 255],\n",
              "       [255, 254, 255],\n",
              "       [255, 254, 255]], dtype=uint8)"
            ]
          },
          "execution_count": 12,
          "metadata": {},
          "output_type": "execute_result"
        },
        {
          "data": {
            "image/png": "[encoded data removed]",
            "text/plain": [
              "<Figure size 432x288 with 1 Axes>"
            ]
          },
          "metadata": {
            "needs_background": "light"
          },
          "output_type": "display_data"
        }
      ],
      "source": [
        "mazeImg = cv2.imread(\"ss.png\")\n",
        "mazeImg = cv2.cvtColor(mazeImg, cv2.COLOR_BGR2RGB)\n",
        "plt.imshow(mazeImg)\n",
        "mazeImg[20:50,25]"
      ]
    },
    {
      "cell_type": "markdown",
      "metadata": {
        "id": "T0eB00YSjoyc"
      },
      "source": [
        "## Find a solution\n",
        "Find a solution from the center of the starting block (i.e. RED block) to the center of target block (i.e. GREEN block) using A*.  \n",
        "You do NOT need to write A* from scratch (but you can), an existing impementation can be adopted to this problem.  \n",
        "You are expected to provide references to your imports regarding A*.\n",
        "\n",
        "\n"
      ]
    },
    {
      "cell_type": "code",
      "execution_count": 16,
      "metadata": {},
      "outputs": [
        {
          "name": "stdout",
          "output_type": "stream",
          "text": [
            "\u001b]4;0;#191d24\u001b\\\u001b]4;1;#D19275\u001b\\\u001b]4;2;#6C808B\u001b\\\u001b]4;3;#AA9F99\u001b\\\u001b]4;4;#B9BFBE\u001b\\\u001b]4;5;#CFB4A4\u001b\\\u001b]4;6;#D9C6B4\u001b\\\u001b]4;7;#e3deda\u001b\\\u001b]4;8;#9e9b98\u001b\\\u001b]4;9;#D19275\u001b\\\u001b]4;10;#6C808B\u001b\\\u001b]4;11;#AA9F99\u001b\\\u001b]4;12;#B9BFBE\u001b\\\u001b]4;13;#CFB4A4\u001b\\\u001b]4;14;#D9C6B4\u001b\\\u001b]4;15;#e3deda\u001b\\\u001b]10;#e3deda\u001b\\\u001b]11;#191d24\u001b\\\u001b]12;#e3deda\u001b\\\u001b]13;#e3deda\u001b\\\u001b]17;#e3deda\u001b\\\u001b]19;#191d24\u001b\\\u001b]4;232;#191d24\u001b\\\u001b]4;256;#e3deda\u001b\\\u001b]708;#191d24\u001b\\Defaulting to user installation because normal site-packages is not writeable\n",
            "Requirement already satisfied: pathfinder in /home/ulasyaprak/.local/lib/python3.9/site-packages (0.6.2)\n"
          ]
        }
      ],
      "source": [
        "!pip install pathfinder"
      ]
    },
    {
      "cell_type": "markdown",
      "metadata": {
        "id": "0SDfpRH2lCFH"
      },
      "source": [
        "### Imports"
      ]
    },
    {
      "cell_type": "code",
      "execution_count": 17,
      "metadata": {
        "id": "lmcn7RbRlEd-"
      },
      "outputs": [],
      "source": [
        "# import any additional library realted to this part and provide references\n",
        "import numpy as np  \n",
        "from numpy.linalg import matrix_rank as rank\n",
        "import matplotlib.pyplot as plt\n",
        "from math import *\n",
        "from pathfinding.core.grid import Grid\n",
        "from pathfinding.finder.a_star import AStarFinder\n",
        "from pathfinding.core.diagonal_movement import DiagonalMovement"
      ]
    },
    {
      "cell_type": "markdown",
      "metadata": {
        "id": "lwfgveIKlp_6"
      },
      "source": [
        "### Implement your solution\n",
        "All your code generated to find a solution should be given below.\n",
        "I would like to see your heuristic function separately though.  \n",
        "You can add as many code blocks as you like. But make sure that the first block is your heuristic.  \n"
      ]
    },
    {
      "cell_type": "code",
      "execution_count": 18,
      "metadata": {},
      "outputs": [
        {
          "data": {
            "text/plain": [
              "array([[255, 255, 255,   2],\n",
              "       [  0,   0, 150,   8],\n",
              "       [150, 150,   0,  14],\n",
              "       [150,   0, 150,   4],\n",
              "       [  0, 150, 150,  12],\n",
              "       [222,  55, 222,  10],\n",
              "       [  0,  99,  55,   6]])"
            ]
          },
          "execution_count": 18,
          "metadata": {},
          "output_type": "execute_result"
        }
      ],
      "source": [
        "color_costs = list(color_costs.values()) # convert the color costs to a list\n",
        "color_costs_user=np.zeros((7,3),dtype=int) # create a matrix of zeros\n",
        "color_costs_user_2=np.zeros((7,1),dtype=int) # create a matrix of zeros\n",
        "# flatten color_costs to a 2D array \n",
        "for i in range (len(color_costs)): # for each color cost\n",
        "    color_costs_user_2[i]=color_costs[i][1] # get the second element of the list\n",
        "    color_costs_user[i] = list(color_costs[i][0]) # get the first element of the list\n",
        "color_costs = np.concatenate((color_costs_user, color_costs_user_2), axis=1) # concatenate the two matrices\n",
        "color_costs "
      ]
    },
    {
      "cell_type": "code",
      "execution_count": 19,
      "metadata": {
        "id": "N4yfG494mAVL"
      },
      "outputs": [],
      "source": [
        "# heuristic function is to be implemented here\n",
        "def heuristic(x1,x2,y1,y2):\n",
        "    '''\n",
        "    this function is used to calculate the heuristic value for the A* algorithm as manhattan distance\n",
        "    the solutution is called from the AStarFinder class in the pathfinding library which uses its own heuristic function\n",
        "    the heuristic function in the library also uses the manhattan distance when DiagonalMovement is set to DiagonalMovement.never \n",
        "    which is the default value and used here.\n",
        "    the instructor (Buğra Hoca) is contacted to explain the heuristic function usage problem.\n",
        "    '''\n",
        "    return abs(x1-x2)+abs(y1-y2)  # manhattan distance\n"
      ]
    },
    {
      "cell_type": "code",
      "execution_count": 20,
      "metadata": {
        "id": "0Cr-jJsbDMAL"
      },
      "outputs": [],
      "source": [
        "# cost function to be used in uniform cost will be here\n",
        "def cost(mazeImg,color_costs): \n",
        "    '''\n",
        "    this function creates an array with the cost of each pixel in mazeImg\n",
        "    '''\n",
        "    cost_array=np.zeros((mazeImg.shape[0],mazeImg.shape[1])) # create an array of zeros with the same size as mazeImg\n",
        "    for i in range(len(mazeImg)): # loop through the rows\n",
        "        for j in range(len(mazeImg[0])): # loop through the columns\n",
        "            for k in range(len(color_costs)): # loop through the color costs\n",
        "                if (mazeImg[i][j][0] == color_costs[k][0] and mazeImg[i][j][1] == color_costs[k][1] and mazeImg[i][j][2] == color_costs[k][2]): # if the pixel is the same as the color cost\n",
        "                    cost_array[i][j]=color_costs[k][3] # set the cost of the pixel to the cost of the color cost\n",
        "            if (mazeImg[i][j][0] == 0 and mazeImg[i][j][1] == 255 and mazeImg[i][j][2] == 0): # if the pixel is green\n",
        "                cost_array[i][j]=1 # set the cost of the pixel to 1\n",
        "            elif (mazeImg[i][j][0] == 255 and mazeImg[i][j][1] == 0 and mazeImg[i][j][2] == 0): # if the pixel is red\n",
        "                cost_array[i][j]=1 # set the cost of the pixel to 1\n",
        "            elif (mazeImg[i][j][0] == 0 and mazeImg[i][j][1] == 0 and mazeImg[i][j][2] == 0): # if the pixel is black\n",
        "                cost_array[i][j]=0 # set the cost of the pixel to -1\n",
        "    return cost_array # return the cost array\n",
        "    \n"
      ]
    },
    {
      "cell_type": "code",
      "execution_count": 21,
      "metadata": {},
      "outputs": [],
      "source": [
        "def find_start_and_finish(mazeImg):\n",
        "    '''\n",
        "    this funtion finds the centers of green and red boxes in mazeImg\n",
        "    '''\n",
        "    # find the centers of the boxes\n",
        "    reds=[] # list of red boxes\n",
        "    greens=[] # list of green boxes\n",
        "    gx=0 # x coordinate of green box\n",
        "    gy=0 # y coordinate of green box\n",
        "    rx=0 # x coordinate of red box\n",
        "    ry=0 # y coordinate of red box\n",
        "    for i in range(len(mazeImg)): # loop through the rows\n",
        "        for j in range(len(mazeImg[0])): # loop through the columns\n",
        "            if (mazeImg[i][j][0] == 0 and mazeImg[i][j][1] == 255 and mazeImg[i][j][2] == 0): # if the pixel is green\n",
        "               greens.append([i,j]) # append the coordinates of the green box to the list\n",
        "            elif (mazeImg[i][j][0] == 255 and mazeImg[i][j][1] == 0 and mazeImg[i][j][2] == 0): # if the pixel is red\n",
        "               reds.append([i,j]) # append the coordinates of the red box to the list\n",
        "\n",
        "    for i,j in greens:  # average of green coordinates\n",
        "        gx+=i # sum of green coordinates\n",
        "        gy+=j # sum of green coordinates\n",
        "    gx=gx/len(greens) # average of green coordinates\n",
        "    gy=gy/len(greens) # average of green coordinates\n",
        "\n",
        "    for i,j in reds:  # average of red coordinates\n",
        "        rx+=i # sum of red coordinates\n",
        "        ry+=j # sum of red coordinates\n",
        "    rx=rx/len(reds) # average of red coordinates\n",
        "    ry=ry/len(reds) # average of red coordinates\n",
        "    return rx,ry,gx,gy # return the coordinates of the centers of the red and green boxes"
      ]
    },
    {
      "cell_type": "code",
      "execution_count": 22,
      "metadata": {
        "id": "dhydlu-YmFQD"
      },
      "outputs": [
        {
          "data": {
            "text/plain": [
              "<function pathfinding.core.grid.Grid.cleanup(self)>"
            ]
          },
          "execution_count": 22,
          "metadata": {},
          "output_type": "execute_result"
        }
      ],
      "source": [
        "# do your magic for everything else here and below.\n",
        "Grid.cleanup  # clean up the grid class in the pathfinding library"
      ]
    },
    {
      "cell_type": "code",
      "execution_count": 23,
      "metadata": {},
      "outputs": [],
      "source": [
        "rx,ry,gx,gy=find_start_and_finish(mazeImg) # find the centers of the red and green boxes\n",
        "img=cost(mazeImg,color_costs) # get the cost array\n",
        "grid = Grid(matrix=img) # create a grid object with the cost array\n",
        "start = grid.node(int(rx), int(ry)) # create a start node with the coordinates of the red box center\n",
        "end = grid.node(int(gx), int(gy)) # create an end node with the coordinates of the green box center\n",
        "finder = AStarFinder(diagonal_movement=DiagonalMovement.never, time_limit=inf,max_runs=inf) # create an A* finder object with DiagonalMovement.never as its value for diagonal movement \n",
        "path, runs = finder.find_path(start, end, grid) # find the path between the start and end nodes with the grid object and return the path and the number of runs of the algorithm "
      ]
    },
    {
      "cell_type": "markdown",
      "metadata": {
        "id": "Qej2Gf2ImvGC"
      },
      "source": [
        "##Finally - PART II\n",
        "Display the final solution here.  \n",
        "Solution path is expected to be overlayed on top of ```mazeImg``` with a distinctive color and displayed below.\n",
        "Note that if the Test image changes above, this part should work without a problem!"
      ]
    },
    {
      "cell_type": "code",
      "execution_count": null,
      "metadata": {},
      "outputs": [],
      "source": []
    },
    {
      "cell_type": "code",
      "execution_count": 24,
      "metadata": {
        "id": "nKQL7_mMm-R-"
      },
      "outputs": [
        {
          "data": {
            "text/plain": [
              "<matplotlib.image.AxesImage at 0x7f0b24923700>"
            ]
          },
          "execution_count": 24,
          "metadata": {},
          "output_type": "execute_result"
        },
        {
          "data": {
            "image/png": "[encoded data removed]",
            "text/plain": [
              "<Figure size 432x288 with 1 Axes>"
            ]
          },
          "metadata": {
            "needs_background": "light"
          },
          "output_type": "display_data"
        }
      ],
      "source": [
        "# display solution\n",
        "road=[] # list of coordinates of the path\n",
        "for i in range(len(path)): # loop through the path\n",
        "    road.append(list(path[i])) # append the coordinates of the path to the list\n",
        "for i,j in road: # loop through the coordinates of the path\n",
        "    mazeImg[i][j]=[15,15,15] # set the pixel to gray\n",
        "plt.imshow(mazeImg) # show the maze image with the path "
      ]
    }
  ],
  "metadata": {
    "colab": {
      "collapsed_sections": [],
      "name": "ME461_Assignment_ShapeDetection_and_Search.ipynb adlı not defterinin kopyası",
      "provenance": []
    },
    "interpreter": {
      "hash": "31f2aee4e71d21fbe5cf8b01ff0e069b9275f58929596ceb00d14d90e3e16cd6"
    },
    "kernelspec": {
      "display_name": "Python 3.9.5 64-bit",
      "name": "python3"
    },
    "language_info": {
      "name": "python",
      "version": ""
    }
  },
  "nbformat": 4,
  "nbformat_minor": 0
}