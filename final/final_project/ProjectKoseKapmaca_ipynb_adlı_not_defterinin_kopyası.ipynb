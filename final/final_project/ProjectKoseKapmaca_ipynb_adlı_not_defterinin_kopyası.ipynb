{
  "cells": [
    {
      "cell_type": "markdown",
      "metadata": {
        "id": "b5hOgf-J_XKl"
      },
      "source": [
        "# Let's get started with coding"
      ]
    },
    {
      "cell_type": "markdown",
      "metadata": {
        "id": "ZvNhNsvNcTGS"
      },
      "source": [
        "## Start with imports"
      ]
    },
    {
      "cell_type": "code",
      "execution_count": 1,
      "metadata": {
        "id": "ipRknKEoa8lc"
      },
      "outputs": [],
      "source": [
        "import numpy as np\n",
        "import random"
      ]
    },
    {
      "cell_type": "markdown",
      "metadata": {
        "id": "TYxAO9yTB5ch"
      },
      "source": [
        "## get library files"
      ]
    },
    {
      "cell_type": "code",
      "execution_count": 6,
      "metadata": {
        "colab": {
          "base_uri": "https://localhost:8080/"
        },
        "id": "FHyRTpYWB7WP",
        "outputId": "4504cb61-fc23-4f2f-f5cb-2e1da450cae1"
      },
      "outputs": [],
      "source": [
        "from ME4612021Fproject import *\n",
        "import atlas\n",
        "import tulumba"
      ]
    },
    {
      "cell_type": "code",
      "execution_count": 3,
      "metadata": {
        "colab": {
          "base_uri": "https://localhost:8080/",
          "height": 429
        },
        "id": "PpEaBcGRuwYd",
        "outputId": "ce52d230-d723-4bad-a264-6a19adf15a38"
      },
      "outputs": [
        {
          "ename": "TypeError",
          "evalue": "tulumba() takes no arguments",
          "output_type": "error",
          "traceback": [
            "\u001b[0;31m---------------------------------------------------------------------------\u001b[0m",
            "\u001b[0;31mTypeError\u001b[0m                                 Traceback (most recent call last)",
            "\u001b[0;32m/tmp/ipykernel_71349/422267020.py\u001b[0m in \u001b[0;36m<module>\u001b[0;34m\u001b[0m\n\u001b[1;32m     21\u001b[0m         \u001b[0mPlayers\u001b[0m\u001b[0;34m[\u001b[0m\u001b[0mgName\u001b[0m\u001b[0;34m]\u001b[0m \u001b[0;34m=\u001b[0m \u001b[0;34m[\u001b[0m\u001b[0mplayer\u001b[0m\u001b[0;34m,\u001b[0m \u001b[0mplayerID\u001b[0m\u001b[0;34m[\u001b[0m\u001b[0mgInd\u001b[0m\u001b[0;34m]\u001b[0m\u001b[0;34m+\u001b[0m\u001b[0;36m1\u001b[0m\u001b[0;34m,\u001b[0m \u001b[0;34m[\u001b[0m\u001b[0;34m]\u001b[0m\u001b[0;34m,\u001b[0m \u001b[0minitLocs\u001b[0m\u001b[0;34m[\u001b[0m\u001b[0mplayerID\u001b[0m\u001b[0;34m[\u001b[0m\u001b[0mgInd\u001b[0m\u001b[0;34m]\u001b[0m\u001b[0;34m]\u001b[0m\u001b[0;34m,\u001b[0m \u001b[0mPinit\u001b[0m\u001b[0;34m]\u001b[0m\u001b[0;34m\u001b[0m\u001b[0;34m\u001b[0m\u001b[0m\n\u001b[1;32m     22\u001b[0m     \u001b[0;32melse\u001b[0m\u001b[0;34m:\u001b[0m\u001b[0;34m\u001b[0m\u001b[0;34m\u001b[0m\u001b[0m\n\u001b[0;32m---> 23\u001b[0;31m         \u001b[0mplayer\u001b[0m \u001b[0;34m=\u001b[0m \u001b[0mtulumbaa\u001b[0m\u001b[0;34m.\u001b[0m\u001b[0mtulumba\u001b[0m\u001b[0;34m(\u001b[0m\u001b[0mgName\u001b[0m\u001b[0;34m,\u001b[0m \u001b[0mcolorz\u001b[0m\u001b[0;34m,\u001b[0m \u001b[0mmaxStep\u001b[0m\u001b[0;34m,\u001b[0m \u001b[0mmaxTime\u001b[0m\u001b[0;34m)\u001b[0m \u001b[0;31m# set the name, color and max step size for the current player\u001b[0m\u001b[0;34m\u001b[0m\u001b[0;34m\u001b[0m\u001b[0m\n\u001b[0m\u001b[1;32m     24\u001b[0m         \u001b[0;31m# keep record of player object, player ID, a history list, their current location and current points\u001b[0m\u001b[0;34m\u001b[0m\u001b[0;34m\u001b[0m\u001b[0;34m\u001b[0m\u001b[0m\n\u001b[1;32m     25\u001b[0m         \u001b[0mPlayers\u001b[0m\u001b[0;34m[\u001b[0m\u001b[0mgName\u001b[0m\u001b[0;34m]\u001b[0m \u001b[0;34m=\u001b[0m \u001b[0;34m[\u001b[0m\u001b[0mplayer\u001b[0m\u001b[0;34m,\u001b[0m \u001b[0mplayerID\u001b[0m\u001b[0;34m[\u001b[0m\u001b[0mgInd\u001b[0m\u001b[0;34m]\u001b[0m\u001b[0;34m+\u001b[0m\u001b[0;36m1\u001b[0m\u001b[0;34m,\u001b[0m \u001b[0;34m[\u001b[0m\u001b[0;34m]\u001b[0m\u001b[0;34m,\u001b[0m \u001b[0minitLocs\u001b[0m\u001b[0;34m[\u001b[0m\u001b[0mplayerID\u001b[0m\u001b[0;34m[\u001b[0m\u001b[0mgInd\u001b[0m\u001b[0;34m]\u001b[0m\u001b[0;34m]\u001b[0m\u001b[0;34m,\u001b[0m \u001b[0mPinit\u001b[0m\u001b[0;34m]\u001b[0m\u001b[0;34m\u001b[0m\u001b[0;34m\u001b[0m\u001b[0m\n",
            "\u001b[0;31mTypeError\u001b[0m: tulumba() takes no arguments"
          ]
        }
      ],
      "source": [
        "# initial points in the game for each player\n",
        "Pinit = 301\n",
        "# groups names\n",
        "group_names = ['atlas', 'backspacex', 'ducati', 'hepsi1', 'mechrix', 'meturoam', 'nebula', 'ohmygroup', 'tulumba']\n",
        "#group_names = ['altas', 'backspacex'] \n",
        "Players = {}\n",
        "playerID = [x for x in range(len(group_names))] # generate player IDs\n",
        "random.shuffle(playerID) # shuffle player order\n",
        "\n",
        "# set default player locations, note that playerIDs are randomly ordered\n",
        "initLocs = [(25, 175),(25, 375),(25, 575),(175, 25),(375, 25),(575, 25),(175, 725),(375, 725),(575, 725)]\n",
        "# a summary of the players\n",
        "legend = f'{12*\"8<--\"}\\n\\tGROUP IDS and STARTING LOCATIONS \\n{12*\"8<--\"}\\n'\n",
        "\n",
        "\n",
        "# the game should be set up, let's plot an informative version of the game board\n",
        "for gInd, gName in enumerate(group_names):\n",
        "    if gInd < 5:\n",
        "        player = tulumba.tulumba(gName, colorz, maxStep, maxTime) # set the name, color and max step size for the current player\n",
        "        # keep record of player object, player ID, a history list, their current location and current points\n",
        "        Players[gName] = [player, playerID[gInd]+1, [], initLocs[playerID[gInd]], Pinit]\n",
        "    else:\n",
        "        player = tulumbaa.tulumba(gName, colorz, maxStep, maxTime) # set the name, color and max step size for the current player\n",
        "        # keep record of player object, player ID, a history list, their current location and current points\n",
        "        Players[gName] = [player, playerID[gInd]+1, [], initLocs[playerID[gInd]], Pinit]\n",
        "\n",
        "# genereate a new game for these players\n",
        "aGame = LetsPlayAGame(Players, initLocs, nCorr, colorz, imSize, digits, maxStep) \n",
        "\n",
        "for gInd, gName in enumerate(Players.keys()):\n",
        "    aGame.aMaze.DrawPolyLine(aGame.pmaze, [initLocs[Players[gName][1]-1]], header = digits[Players[gName][1]] )\n",
        "    legend +=f'{\"{0: >10}\".format(gName)} ID = {playerID[gInd]+1}, starting from {initLocs[playerID[gInd]]}\\n'\n",
        "\n",
        "# set figures to plot larger than default\n",
        "plt.rcParams[\"figure.figsize\"] = (15,15)\n",
        "plt.imshow(aGame.pmaze)\n",
        "plt.title('Original Image')\n",
        "# finally print the legend\n",
        "print(legend)\n",
        "ormaze = aGame.pmaze.copy()\n",
        "# in case you want a movie, clear frame images first\n",
        "!rm frame*.png 2>>dumpy\n",
        "# number of nowin sessions\n",
        "numNoWin = 0"
      ]
    },
    {
      "cell_type": "code",
      "execution_count": null,
      "metadata": {
        "cellView": "code",
        "id": "By3X0O0Ezd5H"
      },
      "outputs": [],
      "source": [
        "debugMode = False\n",
        "numMaxNoPlay = 12\n",
        "win, summary = aGame.PlayAStep(debugMode)\n",
        "if win == []: # oops\n",
        "    print(summary)\n",
        "else:\n",
        "    # perf contains time performance data\n",
        "    if len(win.keys()) == 0:\n",
        "        numNoWin += 1\n",
        "    else: # reset no win counter\n",
        "        numNoWin = 0\n",
        "    # display results\n",
        "    plt.rcParams[\"figure.figsize\"] = (20,15)\n",
        "    plt.imshow(aGame.pmaze)\n",
        "    plt.text(10,10,summary+'\\n')\n",
        "    plt.title(f'Game Step: {aGame.numSteps}\\nBoard: {aGame.numBoards}\\nPoints: {TotalPoints()} / {aGame.aMaze.RemainingPoints()}\\nNo wins:{numNoWin}')\n",
        "    plt.savefig(f'frame{aGame.numSteps-1}.png')\n",
        "\n",
        "    if numNoWin >= numMaxNoPlay or  aGame.aMaze.RemainingPoints() == 0: # then we need a new game\n",
        "        if  aGame.aMaze.RemainingPoints() == 0:\n",
        "            print('No bases left, board will be reset')\n",
        "        else:\n",
        "            print('Too many no win games, resetting board next time')\n",
        "        aGame.ResetBoard()\n",
        "        numNoWin = 0\n",
        "\n"
      ]
    }
  ],
  "metadata": {
    "colab": {
      "collapsed_sections": [],
      "name": "ProjectKoseKapmaca.ipynb adlı not defterinin kopyası",
      "provenance": []
    },
    "interpreter": {
      "hash": "31f2aee4e71d21fbe5cf8b01ff0e069b9275f58929596ceb00d14d90e3e16cd6"
    },
    "kernelspec": {
      "display_name": "Python 3.9.5 64-bit",
      "name": "python3"
    },
    "language_info": {
      "codemirror_mode": {
        "name": "ipython",
        "version": 3
      },
      "file_extension": ".py",
      "mimetype": "text/x-python",
      "name": "python",
      "nbconvert_exporter": "python",
      "pygments_lexer": "ipython3",
      "version": "3.9.5"
    }
  },
  "nbformat": 4,
  "nbformat_minor": 0
}