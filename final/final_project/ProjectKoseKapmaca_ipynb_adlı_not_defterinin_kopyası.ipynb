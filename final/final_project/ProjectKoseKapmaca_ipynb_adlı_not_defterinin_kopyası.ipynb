{
  "nbformat": 4,
  "nbformat_minor": 0,
  "metadata": {
    "colab": {
      "name": "ProjectKoseKapmaca.ipynb adlı not defterinin kopyası",
      "provenance": [],
      "collapsed_sections": []
    },
    "kernelspec": {
      "name": "python3",
      "display_name": "Python 3"
    },
    "language_info": {
      "name": "python"
    }
  },
  "cells": [
    {
      "cell_type": "markdown",
      "source": [
        "# Project: Köşe Kapmaca\n"
      ],
      "metadata": {
        "id": "A_-DJzKsbQjN"
      }
    },
    {
      "cell_type": "markdown",
      "source": [
        "## Brief project definition"
      ],
      "metadata": {
        "id": "25ppr0Ek_RcP"
      }
    },
    {
      "cell_type": "markdown",
      "source": [
        "\n",
        "- Each group submit a group_name.py file, exactly one of the names that is defined below in ```group_names``` list.\n",
        "- the file should be self sufficient and one we import it, we should be able to create an instance of your solver/player\n",
        "- external dependencies should be PIP installable and included in your ```group_name.py``` file\n",
        "- a template file is given as [ME461Group.py](https://raw.githubusercontent.com/bugrakoku/classypy/main/ME461Group.py), you can edit this file and save it properly and submit it. As of now it is a random player.\n",
        "\n",
        "Tournament: count down from 301  \n",
        "\n",
        "When tournament starts a maze image (nxmx3 tensor) will be given to your function named ```solverobject.run(img, info)``` where ```info``` is a dictionary where group names are the keys and values contain location of each robot and remaining points that robot has to reach down to 0.\n",
        "\n",
        "Your function should return a list of points ```[(),(),...]``` where your current point is not included in this list, the first point is the first point you want to reach.  \n",
        "Fasters execution time will get N pixel travel at max. Therefore the total length of the path in your list should be N. Fastest code will move upto N, and the slowest N/2.\n",
        "\n",
        "Corridors and bases are in 50 pixels in size.\n",
        "\n",
        "After calling the ```solverobject.run()``` function for all groups, system will update the locations based on exeution times, if a base is taken by a robot, update the robots points, locate it randomly around that base and turn the base to a wall, where walls are not bases. \n",
        "\n",
        "- if all bases are taken, i.e. no points left on the game board or points do not change for 12 steps, the whoel maze will be refreshed with a new board.\n",
        "- you should be ready to play alone, against one opponent or against everyone\n",
        "- points for colors and how many of them there will be in the maze are in the list ```colorz```, this will not change: bases will have points in between [1,...,9] x 3, [10, 20, 30, 50] x 2\n",
        ", [100] x 1 where the rest will be just black with 0 points\n",
        "- when a base is taken by a player, that base will turn black\n",
        "- black bases are NOT walls, you can pass through them, but you will not get any points\n",
        "- if your point drops below 0, you are out of the game as a [**loser**](https://youtu.be/_xEcC6ULakE?t=11)\n",
        "- The player that gets 0 first is the winner, rest will be sorted based on remaining points.\n",
        "\n",
        "Check out the following implementation and make a copy of this notebook and test your implementation with the updated version of this notebook.  \n",
        "\n",
        "The following is mostly complete but does not end the game one someone hits zero for the first time. This is left on purpose but will change during the games.  \n",
        "\n",
        "If you spot bugs, please [report it here](https://odtuclass2021f.metu.edu.tr/mod/forum/discuss.php?d=27672)\n",
        "\n"
      ],
      "metadata": {
        "id": "jHipuJAX_aN2"
      }
    },
    {
      "cell_type": "markdown",
      "source": [
        "# Let's get started with coding"
      ],
      "metadata": {
        "id": "b5hOgf-J_XKl"
      }
    },
    {
      "cell_type": "markdown",
      "source": [
        "## Start with imports"
      ],
      "metadata": {
        "id": "ZvNhNsvNcTGS"
      }
    },
    {
      "cell_type": "code",
      "execution_count": 2,
      "metadata": {
        "id": "ipRknKEoa8lc"
      },
      "outputs": [],
      "source": [
        "import numpy as np\n",
        "import random"
      ]
    },
    {
      "cell_type": "markdown",
      "source": [
        "## get library files"
      ],
      "metadata": {
        "id": "TYxAO9yTB5ch"
      }
    },
    {
      "cell_type": "code",
      "source": [
        "# get dummy player \n",
        "!rm *.py 2> dumpy\n",
        "\n",
        "!wget https://raw.githubusercontent.com/bugrakoku/classypy/main/ME461Group.py\n",
        "import ME461Group as DummyPlayer\n",
        "!wget https://raw.githubusercontent.com/bugrakoku/classypy/main/ME4612021Fproject.py\n",
        "from ME4612021Fproject import *\n"
      ],
      "metadata": {
        "id": "FHyRTpYWB7WP",
        "colab": {
          "base_uri": "https://localhost:8080/"
        },
        "outputId": "4504cb61-fc23-4f2f-f5cb-2e1da450cae1"
      },
      "execution_count": 10,
      "outputs": [
        {
          "output_type": "stream",
          "name": "stdout",
          "text": [
            "--2022-02-10 15:27:28--  https://raw.githubusercontent.com/bugrakoku/classypy/main/ME461Group.py\n",
            "Resolving raw.githubusercontent.com (raw.githubusercontent.com)... 185.199.108.133, 185.199.111.133, 185.199.110.133, ...\n",
            "Connecting to raw.githubusercontent.com (raw.githubusercontent.com)|185.199.108.133|:443... connected.\n",
            "HTTP request sent, awaiting response... 200 OK\n",
            "Length: 2063 (2.0K) [text/plain]\n",
            "Saving to: ‘ME461Group.py’\n",
            "\n",
            "\rME461Group.py         0%[                    ]       0  --.-KB/s               \rME461Group.py       100%[===================>]   2.01K  --.-KB/s    in 0s      \n",
            "\n",
            "2022-02-10 15:27:28 (49.2 MB/s) - ‘ME461Group.py’ saved [2063/2063]\n",
            "\n",
            "--2022-02-10 15:27:28--  https://raw.githubusercontent.com/bugrakoku/classypy/main/ME4612021Fproject.py\n",
            "Resolving raw.githubusercontent.com (raw.githubusercontent.com)... 185.199.108.133, 185.199.111.133, 185.199.110.133, ...\n",
            "Connecting to raw.githubusercontent.com (raw.githubusercontent.com)|185.199.108.133|:443... connected.\n",
            "HTTP request sent, awaiting response... 200 OK\n",
            "Length: 19145 (19K) [text/plain]\n",
            "Saving to: ‘ME4612021Fproject.py’\n",
            "\n",
            "ME4612021Fproject.p 100%[===================>]  18.70K  --.-KB/s    in 0s      \n",
            "\n",
            "2022-02-10 15:27:28 (58.8 MB/s) - ‘ME4612021Fproject.py’ saved [19145/19145]\n",
            "\n"
          ]
        }
      ]
    },
    {
      "cell_type": "code",
      "source": [
        "!rm tulumba.py\n",
        "!wget https://raw.githubusercontent.com/userleaf/ME461/master/final/final_project/tulumba.py\n",
        "import tulumba as t"
      ],
      "metadata": {
        "colab": {
          "base_uri": "https://localhost:8080/"
        },
        "id": "JZDgZ48hPinM",
        "outputId": "d4d50517-7942-47e0-b06a-72ba545d111e"
      },
      "execution_count": 17,
      "outputs": [
        {
          "output_type": "stream",
          "name": "stdout",
          "text": [
            "--2022-02-10 15:30:16--  https://raw.githubusercontent.com/userleaf/ME461/master/final/final_project/tulumba.py\n",
            "Resolving raw.githubusercontent.com (raw.githubusercontent.com)... 185.199.108.133, 185.199.109.133, 185.199.110.133, ...\n",
            "Connecting to raw.githubusercontent.com (raw.githubusercontent.com)|185.199.108.133|:443... connected.\n",
            "HTTP request sent, awaiting response... 200 OK\n",
            "Length: 869 [text/plain]\n",
            "Saving to: ‘tulumba.py’\n",
            "\n",
            "\rtulumba.py            0%[                    ]       0  --.-KB/s               \rtulumba.py          100%[===================>]     869  --.-KB/s    in 0s      \n",
            "\n",
            "2022-02-10 15:30:16 (58.1 MB/s) - ‘tulumba.py’ saved [869/869]\n",
            "\n"
          ]
        }
      ]
    },
    {
      "cell_type": "markdown",
      "source": [
        ""
      ],
      "metadata": {
        "id": "9KcZvCvdByY3"
      }
    },
    {
      "cell_type": "markdown",
      "source": [
        "# START The GAME: generate users and intialize them \n",
        "the following seciton is for demostration purposes as of now, during evaluation, the dummy player will be replaced with instances of your class.  \n",
        "\n",
        "Start by setting up the board for a brand new game"
      ],
      "metadata": {
        "id": "j6jyhwJny95N"
      }
    },
    {
      "cell_type": "code",
      "source": [
        "# initial points in the game for each player\n",
        "Pinit = 301\n",
        "# groups names\n",
        "group_names = ['atlas', 'backspacex', 'ducati', 'hepsi1', 'mechrix', 'meturoam', 'nebula', 'ohmygroup', 'tulumba']\n",
        "#group_names = ['altas', 'backspacex'] \n",
        "Players = {}\n",
        "playerID = [x for x in range(len(group_names))] # generate player IDs\n",
        "random.shuffle(playerID) # shuffle player order\n",
        "\n",
        "# set default player locations, note that playerIDs are randomly ordered\n",
        "initLocs = [(25, 175),(25, 375),(25, 575),(175, 25),(375, 25),(575, 25),(175, 725),(375, 725),(575, 725)]\n",
        "# a summary of the players\n",
        "legend = f'{12*\"8<--\"}\\n\\tGROUP IDS and STARTING LOCATIONS \\n{12*\"8<--\"}\\n'\n",
        "\n",
        "# generate players\n",
        "for gInd, gName in enumerate(group_names):\n",
        "    player = DummyPlayer.ME461Group(gName, colorz, maxStep, maxTime) # set the name, color and max step size for the current player\n",
        "    # keep record of player object, player ID, a history list, their current location and current points\n",
        "    Players[gName] = [player, playerID[gInd]+1, [], initLocs[playerID[gInd]], Pinit]\n",
        "\n",
        "# genereate a new game for these players\n",
        "aGame = LetsPlayAGame(Players, initLocs, nCorr, colorz, imSize, digits, maxStep) \n",
        "\n",
        "# the game should be set up, let's plot an informative version of the game board\n",
        "for gInd, gName in enumerate(group_names):\n",
        "    if gName != 'tulumba':\n",
        "        player = DummyPlayer.ME461Group(gName, colorz, maxStep, maxTime) # set the name, color and max step size for the current player\n",
        "        # keep record of player object, player ID, a history list, their current location and current points\n",
        "        Players[gName] = [player, playerID[gInd]+1, [], initLocs[playerID[gInd]], Pinit]\n",
        "    else:\n",
        "        player = t.tulumba(gName, colorz, maxStep, maxTime) # set the name, color and max step size for the current player\n",
        "        # keep record of player object, player ID, a history list, their current location and current points\n",
        "        Players[gName] = [player, playerID[gInd]+1, [], initLocs[playerID[gInd]], Pinit]\n",
        "\n",
        "# set figures to plot larger than default\n",
        "plt.rcParams[\"figure.figsize\"] = (15,15)\n",
        "plt.imshow(aGame.pmaze)\n",
        "plt.title('Original Image')\n",
        "# finally print the legend\n",
        "print(legend)\n",
        "ormaze = aGame.pmaze.copy()\n",
        "# in case you want a movie, clear frame images first\n",
        "!rm frame*.png 2>>dumpy\n",
        "# number of nowin sessions\n",
        "numNoWin = 0"
      ],
      "metadata": {
        "id": "PpEaBcGRuwYd",
        "colab": {
          "base_uri": "https://localhost:8080/",
          "height": 429
        },
        "outputId": "ce52d230-d723-4bad-a264-6a19adf15a38"
      },
      "execution_count": 18,
      "outputs": [
        {
          "output_type": "stream",
          "name": "stdout",
          "text": [
            "{(1, 1, 1): 0, (225, 1, 1): 100, (1, 255, 1): 50, (1, 1, 255): 30, (200, 200, 1): 20, (255, 1, 255): 10, (1, 255, 255): 9, (1, 1, 150): 8, (120, 120, 40): 7, (150, 1, 150): 6, (1, 150, 150): 5, (222, 55, 222): 4, (1, 99, 55): 3, (200, 100, 10): 2, (100, 10, 200): 1}\n"
          ]
        },
        {
          "output_type": "error",
          "ename": "TypeError",
          "evalue": "ignored",
          "traceback": [
            "\u001b[0;31m---------------------------------------------------------------------------\u001b[0m",
            "\u001b[0;31mTypeError\u001b[0m                                 Traceback (most recent call last)",
            "\u001b[0;32m<ipython-input-18-090fcc7726f5>\u001b[0m in \u001b[0;36m<module>\u001b[0;34m()\u001b[0m\n\u001b[1;32m     29\u001b[0m         \u001b[0mPlayers\u001b[0m\u001b[0;34m[\u001b[0m\u001b[0mgName\u001b[0m\u001b[0;34m]\u001b[0m \u001b[0;34m=\u001b[0m \u001b[0;34m[\u001b[0m\u001b[0mplayer\u001b[0m\u001b[0;34m,\u001b[0m \u001b[0mplayerID\u001b[0m\u001b[0;34m[\u001b[0m\u001b[0mgInd\u001b[0m\u001b[0;34m]\u001b[0m\u001b[0;34m+\u001b[0m\u001b[0;36m1\u001b[0m\u001b[0;34m,\u001b[0m \u001b[0;34m[\u001b[0m\u001b[0;34m]\u001b[0m\u001b[0;34m,\u001b[0m \u001b[0minitLocs\u001b[0m\u001b[0;34m[\u001b[0m\u001b[0mplayerID\u001b[0m\u001b[0;34m[\u001b[0m\u001b[0mgInd\u001b[0m\u001b[0;34m]\u001b[0m\u001b[0;34m]\u001b[0m\u001b[0;34m,\u001b[0m \u001b[0mPinit\u001b[0m\u001b[0;34m]\u001b[0m\u001b[0;34m\u001b[0m\u001b[0;34m\u001b[0m\u001b[0m\n\u001b[1;32m     30\u001b[0m     \u001b[0;32melse\u001b[0m\u001b[0;34m:\u001b[0m\u001b[0;34m\u001b[0m\u001b[0;34m\u001b[0m\u001b[0m\n\u001b[0;32m---> 31\u001b[0;31m         \u001b[0mplayer\u001b[0m \u001b[0;34m=\u001b[0m \u001b[0mt\u001b[0m\u001b[0;34m.\u001b[0m\u001b[0mtulumba\u001b[0m\u001b[0;34m(\u001b[0m\u001b[0mgName\u001b[0m\u001b[0;34m,\u001b[0m \u001b[0mcolorz\u001b[0m\u001b[0;34m,\u001b[0m \u001b[0mmaxStep\u001b[0m\u001b[0;34m,\u001b[0m \u001b[0mmaxTime\u001b[0m\u001b[0;34m)\u001b[0m \u001b[0;31m# set the name, color and max step size for the current player\u001b[0m\u001b[0;34m\u001b[0m\u001b[0;34m\u001b[0m\u001b[0m\n\u001b[0m\u001b[1;32m     32\u001b[0m         \u001b[0;31m# keep record of player object, player ID, a history list, their current location and current points\u001b[0m\u001b[0;34m\u001b[0m\u001b[0;34m\u001b[0m\u001b[0;34m\u001b[0m\u001b[0m\n\u001b[1;32m     33\u001b[0m         \u001b[0mPlayers\u001b[0m\u001b[0;34m[\u001b[0m\u001b[0mgName\u001b[0m\u001b[0;34m]\u001b[0m \u001b[0;34m=\u001b[0m \u001b[0;34m[\u001b[0m\u001b[0mplayer\u001b[0m\u001b[0;34m,\u001b[0m \u001b[0mplayerID\u001b[0m\u001b[0;34m[\u001b[0m\u001b[0mgInd\u001b[0m\u001b[0;34m]\u001b[0m\u001b[0;34m+\u001b[0m\u001b[0;36m1\u001b[0m\u001b[0;34m,\u001b[0m \u001b[0;34m[\u001b[0m\u001b[0;34m]\u001b[0m\u001b[0;34m,\u001b[0m \u001b[0minitLocs\u001b[0m\u001b[0;34m[\u001b[0m\u001b[0mplayerID\u001b[0m\u001b[0;34m[\u001b[0m\u001b[0mgInd\u001b[0m\u001b[0;34m]\u001b[0m\u001b[0;34m]\u001b[0m\u001b[0;34m,\u001b[0m \u001b[0mPinit\u001b[0m\u001b[0;34m]\u001b[0m\u001b[0;34m\u001b[0m\u001b[0;34m\u001b[0m\u001b[0m\n",
            "\u001b[0;32m/content/tulumba.py\u001b[0m in \u001b[0;36m__init__\u001b[0;34m(self, userName, clrDictionary, maxStepSize, maxTime)\u001b[0m\n\u001b[1;32m     15\u001b[0m \u001b[0;34m\u001b[0m\u001b[0m\n\u001b[1;32m     16\u001b[0m \u001b[0;34m\u001b[0m\u001b[0m\n\u001b[0;32m---> 17\u001b[0;31m         \u001b[0mself\u001b[0m\u001b[0;34m.\u001b[0m\u001b[0marena\u001b[0m \u001b[0;34m=\u001b[0m \u001b[0mnp\u001b[0m\u001b[0;34m.\u001b[0m\u001b[0mzeros\u001b[0m\u001b[0;34m(\u001b[0m\u001b[0;34m(\u001b[0m\u001b[0;36m7\u001b[0m\u001b[0;34m,\u001b[0m\u001b[0;36m7\u001b[0m\u001b[0;34m)\u001b[0m\u001b[0;34m)\u001b[0m\u001b[0;34m\u001b[0m\u001b[0;34m\u001b[0m\u001b[0m\n\u001b[0m\u001b[1;32m     18\u001b[0m \u001b[0;34m\u001b[0m\u001b[0m\n\u001b[1;32m     19\u001b[0m     \u001b[0;32mdef\u001b[0m \u001b[0mrun\u001b[0m\u001b[0;34m(\u001b[0m\u001b[0mself\u001b[0m\u001b[0;34m,\u001b[0m \u001b[0mimg\u001b[0m\u001b[0;34m,\u001b[0m \u001b[0minfo\u001b[0m\u001b[0;34m)\u001b[0m\u001b[0;34m:\u001b[0m\u001b[0;34m\u001b[0m\u001b[0;34m\u001b[0m\u001b[0m\n",
            "\u001b[0;31mTypeError\u001b[0m: Cannot interpret '7' as a data type"
          ]
        }
      ]
    },
    {
      "cell_type": "markdown",
      "source": [
        "## Play a single game step\n"
      ],
      "metadata": {
        "id": "FCiRZP9dzbRw"
      }
    },
    {
      "cell_type": "code",
      "source": [
        "debugMode = False\n",
        "numMaxNoPlay = 12\n",
        "win, summary = aGame.PlayAStep(debugMode)\n",
        "\n",
        "if win == []: # oops\n",
        "    print(summary)\n",
        "else:\n",
        "    # perf contains time performance data\n",
        "    if len(win.keys()) == 0:\n",
        "        numNoWin += 1\n",
        "    else: # reset no win counter\n",
        "        numNoWin = 0\n",
        "    # display results\n",
        "    plt.rcParams[\"figure.figsize\"] = (20,15)\n",
        "    plt.imshow(aGame.pmaze)\n",
        "    plt.text(10,10,summary+'\\n')\n",
        "    plt.title(f'Game Step: {aGame.numSteps}\\nBoard: {aGame.numBoards}\\nPoints: {TotalPoints()} / {aGame.aMaze.RemainingPoints()}\\nNo wins:{numNoWin}')\n",
        "    plt.savefig(f'frame{aGame.numSteps-1}.png')\n",
        "\n",
        "    if numNoWin >= numMaxNoPlay or  aGame.aMaze.RemainingPoints() == 0: # then we need a new game\n",
        "        if  aGame.aMaze.RemainingPoints() == 0:\n",
        "            print('No bases left, board will be reset')\n",
        "        else:\n",
        "            print('Too many no win games, resetting board next time')\n",
        "        aGame.ResetBoard()\n",
        "        numNoWin = 0\n",
        "\n"
      ],
      "metadata": {
        "cellView": "code",
        "id": "By3X0O0Ezd5H"
      },
      "execution_count": null,
      "outputs": []
    },
    {
      "cell_type": "markdown",
      "source": [
        "# Save the game as an mp4 if desired"
      ],
      "metadata": {
        "id": "ASTANGhr4E0_"
      }
    },
    {
      "cell_type": "code",
      "source": [
        "import moviepy.video.io.ImageSequenceClip\n",
        "\n",
        "def SaveMovie(frames, fps, filename):\n",
        "    clip = moviepy.video.io.ImageSequenceClip.ImageSequenceClip(frames, fps=fps)\n",
        "    #moviepy.video.io.ImageSequenceClip.VideoClip()\n",
        "    clip.write_videofile(filename)\n",
        "\n",
        "frames= []\n",
        "for i in range(aGame.numSteps):\n",
        "    frames.append(f'frame{i}.png')\n",
        "SaveMovie(frames, 3, 'test.mp4')\n",
        "!ls -alh *.mp4"
      ],
      "metadata": {
        "id": "Pt0_KWdP4OQX"
      },
      "execution_count": null,
      "outputs": []
    },
    {
      "cell_type": "code",
      "source": [
        ""
      ],
      "metadata": {
        "id": "8IfXohko91do"
      },
      "execution_count": null,
      "outputs": []
    }
  ]
}