{
  "cells": [
    {
      "cell_type": "markdown",
      "metadata": {
        "id": "b5hOgf-J_XKl"
      },
      "source": [
        "# Let's get started with coding"
      ]
    },
    {
      "cell_type": "markdown",
      "metadata": {
        "id": "ZvNhNsvNcTGS"
      },
      "source": [
        "## Start with imports"
      ]
    },
    {
      "cell_type": "code",
      "execution_count": 1,
      "metadata": {
        "id": "ipRknKEoa8lc"
      },
      "outputs": [],
      "source": [
        "import numpy as np\n",
        "import random"
      ]
    },
    {
      "cell_type": "markdown",
      "metadata": {
        "id": "TYxAO9yTB5ch"
      },
      "source": [
        "## get library files"
      ]
    },
    {
      "cell_type": "code",
      "execution_count": 2,
      "metadata": {
        "colab": {
          "base_uri": "https://localhost:8080/"
        },
        "id": "FHyRTpYWB7WP",
        "outputId": "4504cb61-fc23-4f2f-f5cb-2e1da450cae1"
      },
      "outputs": [],
      "source": [
        "from ME4612021Fproject import *\n",
        "import ME461Group as DummyPlayer\n",
        "import ulas as tulumba"
      ]
    },
    {
      "cell_type": "code",
      "execution_count": 3,
      "metadata": {
        "colab": {
          "base_uri": "https://localhost:8080/",
          "height": 429
        },
        "id": "PpEaBcGRuwYd",
        "outputId": "ce52d230-d723-4bad-a264-6a19adf15a38"
      },
      "outputs": [
        {
          "name": "stdout",
          "output_type": "stream",
          "text": [
            "8<--8<--8<--8<--8<--8<--8<--8<--8<--8<--8<--8<--\n",
            "\tGROUP IDS and STARTING LOCATIONS \n",
            "8<--8<--8<--8<--8<--8<--8<--8<--8<--8<--8<--8<--\n",
            "     atlas ID = 4, starting from (175, 25)\n",
            "backspacex ID = 8, starting from (375, 725)\n",
            "    ducati ID = 2, starting from (25, 375)\n",
            "    hepsi1 ID = 7, starting from (175, 725)\n",
            "   mechrix ID = 9, starting from (575, 725)\n",
            "  meturoam ID = 1, starting from (25, 175)\n",
            "    nebula ID = 6, starting from (575, 25)\n",
            " ohmygroup ID = 3, starting from (25, 575)\n",
            "   tulumba ID = 5, starting from (375, 25)\n",
            "\n",
            "\u001b]4;0;#101c21\u001b\\\u001b]4;1;#704954\u001b\\\u001b]4;2;#8D525B\u001b\\\u001b]4;3;#965763\u001b\\\u001b]4;4;#A95A66\u001b\\\u001b]4;5;#BE616B\u001b\\\u001b]4;6;#C15F6C\u001b\\\u001b]4;7;#d9a9ad\u001b\\\u001b]4;8;#977679\u001b\\\u001b]4;9;#704954\u001b\\\u001b]4;10;#8D525B\u001b\\\u001b]4;11;#965763\u001b\\\u001b]4;12;#A95A66\u001b\\\u001b]4;13;#BE616B\u001b\\\u001b]4;14;#C15F6C\u001b\\\u001b]4;15;#d9a9ad\u001b\\\u001b]10;#d9a9ad\u001b\\\u001b]11;#101c21\u001b\\\u001b]12;#d9a9ad\u001b\\\u001b]13;#d9a9ad\u001b\\\u001b]17;#d9a9ad\u001b\\\u001b]19;#101c21\u001b\\\u001b]4;232;#101c21\u001b\\\u001b]4;256;#d9a9ad\u001b\\\u001b]708;#101c21\u001b\\fish: No matches for wildcard “frame*.png”. See `help expand`.\n",
            "rm frame*.png 2>>dumpy\n",
            "   ^\n"
          ]
        },
        {
          "data": {
            "image/png": "[encoded data removed]",
            "text/plain": [
              "<Figure size 1080x1080 with 1 Axes>"
            ]
          },
          "metadata": {
            "needs_background": "light"
          },
          "output_type": "display_data"
        }
      ],
      "source": [
        "# initial points in the game for each player\n",
        "Pinit = 301\n",
        "# groups names\n",
        "group_names = ['atlas', 'backspacex', 'ducati', 'hepsi1', 'mechrix', 'meturoam', 'nebula', 'ohmygroup', 'tulumba']\n",
        "#group_names = ['altas', 'backspacex'] \n",
        "Players = {}\n",
        "playerID = [x for x in range(len(group_names))] # generate player IDs\n",
        "random.shuffle(playerID) # shuffle player order\n",
        "\n",
        "# set default player locations, note that playerIDs are randomly ordered\n",
        "initLocs = [(25, 175),(25, 375),(25, 575),(175, 25),(375, 25),(575, 25),(175, 725),(375, 725),(575, 725)]\n",
        "# a summary of the players\n",
        "legend = f'{12*\"8<--\"}\\n\\tGROUP IDS and STARTING LOCATIONS \\n{12*\"8<--\"}\\n'\n",
        "\n",
        "\n",
        "# the game should be set up, let's plot an informative version of the game board\n",
        "for gInd, gName in enumerate(group_names):\n",
        "    if gName == 'tulumba':\n",
        "        player = tulumba.tulumba(gName, colorz, maxStep, maxTime) # set the name, color and max step size for the current player\n",
        "        # keep record of player object, player ID, a history list, their current location and current points\n",
        "        Players[gName] = [player, playerID[gInd]+1, [], initLocs[playerID[gInd]], Pinit]\n",
        "    else:\n",
        "        player = DummyPlayer.ME461Group(gName, colorz, maxStep, maxTime) # set the name, color and max step size for the current player\n",
        "        # keep record of player object, player ID, a history list, their current location and current points\n",
        "        Players[gName] = [player, playerID[gInd]+1, [], initLocs[playerID[gInd]], Pinit]\n",
        "\n",
        "# genereate a new game for these players\n",
        "aGame = LetsPlayAGame(Players, initLocs, nCorr, colorz, imSize, digits, maxStep) \n",
        "\n",
        "for gInd, gName in enumerate(Players.keys()):\n",
        "    aGame.aMaze.DrawPolyLine(aGame.pmaze, [initLocs[Players[gName][1]-1]], header = digits[Players[gName][1]] )\n",
        "    legend +=f'{\"{0: >10}\".format(gName)} ID = {playerID[gInd]+1}, starting from {initLocs[playerID[gInd]]}\\n'\n",
        "\n",
        "# set figures to plot larger than default\n",
        "plt.rcParams[\"figure.figsize\"] = (15,15)\n",
        "plt.imshow(aGame.pmaze)\n",
        "plt.title('Original Image')\n",
        "# finally print the legend\n",
        "print(legend)\n",
        "ormaze = aGame.pmaze.copy()\n",
        "# in case you want a movie, clear frame images first\n",
        "!rm frame*.png 2>>dumpy\n",
        "# number of nowin sessions\n",
        "numNoWin = 0"
      ]
    },
    {
      "cell_type": "code",
      "execution_count": 4,
      "metadata": {},
      "outputs": [
        {
          "ename": "IndexError",
          "evalue": "list index out of range",
          "output_type": "error",
          "traceback": [
            "\u001b[0;31m---------------------------------------------------------------------------\u001b[0m",
            "\u001b[0;31mIndexError\u001b[0m                                Traceback (most recent call last)",
            "\u001b[0;32m/tmp/ipykernel_241597/3281096137.py\u001b[0m in \u001b[0;36m<module>\u001b[0;34m\u001b[0m\n\u001b[1;32m      1\u001b[0m \u001b[0;31m# debugger\u001b[0m\u001b[0;34m\u001b[0m\u001b[0;34m\u001b[0m\u001b[0;34m\u001b[0m\u001b[0m\n\u001b[0;32m----> 2\u001b[0;31m \u001b[0mtulumba\u001b[0m\u001b[0;34m.\u001b[0m\u001b[0mtulumba\u001b[0m\u001b[0;34m.\u001b[0m\u001b[0mrun\u001b[0m\u001b[0;34m(\u001b[0m\u001b[0mPlayers\u001b[0m\u001b[0;34m[\u001b[0m\u001b[0;34m'tulumba'\u001b[0m\u001b[0;34m]\u001b[0m\u001b[0;34m[\u001b[0m\u001b[0;36m0\u001b[0m\u001b[0;34m]\u001b[0m\u001b[0;34m,\u001b[0m\u001b[0maGame\u001b[0m\u001b[0;34m.\u001b[0m\u001b[0mmaze\u001b[0m\u001b[0;34m,\u001b[0m\u001b[0maGame\u001b[0m\u001b[0;34m.\u001b[0m\u001b[0mGenerateInfo\u001b[0m\u001b[0;34m(\u001b[0m\u001b[0mPlayers\u001b[0m\u001b[0;34m)\u001b[0m\u001b[0;34m)\u001b[0m\u001b[0;34m\u001b[0m\u001b[0;34m\u001b[0m\u001b[0m\n\u001b[0m",
            "\u001b[0;32m~/mete/ME461/final/final_project/ulas.py\u001b[0m in \u001b[0;36mrun\u001b[0;34m(self, img, info)\u001b[0m\n\u001b[1;32m     45\u001b[0m         \u001b[0;31m# make path\u001b[0m\u001b[0;34m\u001b[0m\u001b[0;34m\u001b[0m\u001b[0;34m\u001b[0m\u001b[0m\n\u001b[1;32m     46\u001b[0m         \u001b[0mself\u001b[0m\u001b[0;34m.\u001b[0m\u001b[0mpath\u001b[0m \u001b[0;34m=\u001b[0m \u001b[0;34m[\u001b[0m\u001b[0;34m]\u001b[0m\u001b[0;34m\u001b[0m\u001b[0;34m\u001b[0m\u001b[0m\n\u001b[0;32m---> 47\u001b[0;31m         \u001b[0;32mreturn\u001b[0m \u001b[0mself\u001b[0m\u001b[0;34m.\u001b[0m\u001b[0mchooseRoute\u001b[0m\u001b[0;34m(\u001b[0m\u001b[0mtarget\u001b[0m\u001b[0;34m)\u001b[0m\u001b[0;34m\u001b[0m\u001b[0;34m\u001b[0m\u001b[0m\n\u001b[0m\u001b[1;32m     48\u001b[0m \u001b[0;34m\u001b[0m\u001b[0m\n\u001b[1;32m     49\u001b[0m     \u001b[0;32mdef\u001b[0m \u001b[0mchooseRoute\u001b[0m\u001b[0;34m(\u001b[0m\u001b[0mself\u001b[0m\u001b[0;34m,\u001b[0m \u001b[0mtarget\u001b[0m\u001b[0;34m)\u001b[0m\u001b[0;34m:\u001b[0m\u001b[0;34m\u001b[0m\u001b[0;34m\u001b[0m\u001b[0m\n",
            "\u001b[0;32m~/mete/ME461/final/final_project/ulas.py\u001b[0m in \u001b[0;36mchooseRoute\u001b[0;34m(self, target)\u001b[0m\n\u001b[1;32m     78\u001b[0m         \u001b[0mfinder\u001b[0m \u001b[0;34m=\u001b[0m \u001b[0mAStarFinder\u001b[0m\u001b[0;34m(\u001b[0m\u001b[0mdiagonal_movement\u001b[0m\u001b[0;34m=\u001b[0m\u001b[0mDiagonalMovement\u001b[0m\u001b[0;34m.\u001b[0m\u001b[0mnever\u001b[0m\u001b[0;34m)\u001b[0m\u001b[0;34m\u001b[0m\u001b[0;34m\u001b[0m\u001b[0m\n\u001b[1;32m     79\u001b[0m         \u001b[0mselectedPath\u001b[0m\u001b[0;34m,\u001b[0m \u001b[0mruns\u001b[0m \u001b[0;34m=\u001b[0m \u001b[0mfinder\u001b[0m\u001b[0;34m.\u001b[0m\u001b[0mfind_path\u001b[0m\u001b[0;34m(\u001b[0m\u001b[0mstart\u001b[0m\u001b[0;34m,\u001b[0m \u001b[0mend\u001b[0m\u001b[0;34m,\u001b[0m \u001b[0mgrid\u001b[0m\u001b[0;34m)\u001b[0m\u001b[0;34m\u001b[0m\u001b[0;34m\u001b[0m\u001b[0m\n\u001b[0;32m---> 80\u001b[0;31m         \u001b[0mpath\u001b[0m \u001b[0;34m=\u001b[0m \u001b[0mself\u001b[0m\u001b[0;34m.\u001b[0m\u001b[0mmove\u001b[0m\u001b[0;34m(\u001b[0m\u001b[0mselectedPath\u001b[0m\u001b[0;34m)\u001b[0m\u001b[0;34m\u001b[0m\u001b[0;34m\u001b[0m\u001b[0m\n\u001b[0m\u001b[1;32m     81\u001b[0m         \u001b[0;32mreturn\u001b[0m \u001b[0mpath\u001b[0m\u001b[0;34m\u001b[0m\u001b[0;34m\u001b[0m\u001b[0m\n\u001b[1;32m     82\u001b[0m \u001b[0;34m\u001b[0m\u001b[0m\n",
            "\u001b[0;32m~/mete/ME461/final/final_project/ulas.py\u001b[0m in \u001b[0;36mmove\u001b[0;34m(self, selectedNodes)\u001b[0m\n\u001b[1;32m     99\u001b[0m             \u001b[0;32melse\u001b[0m\u001b[0;34m:\u001b[0m\u001b[0;34m\u001b[0m\u001b[0;34m\u001b[0m\u001b[0m\n\u001b[1;32m    100\u001b[0m                 \u001b[0;32mcontinue\u001b[0m\u001b[0;34m\u001b[0m\u001b[0;34m\u001b[0m\u001b[0m\n\u001b[0;32m--> 101\u001b[0;31m         \u001b[0;32mif\u001b[0m \u001b[0mpath\u001b[0m\u001b[0;34m[\u001b[0m\u001b[0;36m0\u001b[0m\u001b[0;34m]\u001b[0m \u001b[0;34m==\u001b[0m \u001b[0mself\u001b[0m\u001b[0;34m.\u001b[0m\u001b[0mmyPos\u001b[0m\u001b[0;34m:\u001b[0m\u001b[0;34m\u001b[0m\u001b[0;34m\u001b[0m\u001b[0m\n\u001b[0m\u001b[1;32m    102\u001b[0m             \u001b[0mpath\u001b[0m\u001b[0;34m.\u001b[0m\u001b[0mpop\u001b[0m\u001b[0;34m(\u001b[0m\u001b[0;36m0\u001b[0m\u001b[0;34m)\u001b[0m\u001b[0;34m\u001b[0m\u001b[0;34m\u001b[0m\u001b[0m\n\u001b[1;32m    103\u001b[0m         \u001b[0;32mreturn\u001b[0m \u001b[0mpath\u001b[0m\u001b[0;34m\u001b[0m\u001b[0;34m\u001b[0m\u001b[0m\n",
            "\u001b[0;31mIndexError\u001b[0m: list index out of range"
          ]
        }
      ],
      "source": [
        "# debugger\n",
        "tulumba.tulumba.run(Players['tulumba'][0],aGame.maze,aGame.GenerateInfo(Players))"
      ]
    },
    {
      "cell_type": "code",
      "execution_count": null,
      "metadata": {
        "cellView": "code",
        "id": "By3X0O0Ezd5H"
      },
      "outputs": [],
      "source": [
        "debugMode = True\n",
        "numMaxNoPlay = 12\n",
        "win, summary = aGame.PlayAStep(debugMode)\n",
        "if win == []: # oops\n",
        "    print(summary)\n",
        "else:\n",
        "    # perf contains time performance data\n",
        "    if len(win.keys()) == 0:\n",
        "        numNoWin += 1\n",
        "    else: # reset no win counter\n",
        "        numNoWin = 0\n",
        "    # display results\n",
        "    plt.rcParams[\"figure.figsize\"] = (20,15)\n",
        "    plt.imshow(aGame.pmaze)\n",
        "    plt.text(10,10,summary+'\\n')\n",
        "    plt.title(f'Game Step: {aGame.numSteps}\\nBoard: {aGame.numBoards}\\nPoints: {TotalPoints()} / {aGame.aMaze.RemainingPoints()}\\nNo wins:{numNoWin}')\n",
        "    plt.savefig(f'frame{aGame.numSteps-1}.png')\n",
        "\n",
        "    if numNoWin >= numMaxNoPlay or  aGame.aMaze.RemainingPoints() == 0: # then we need a new game\n",
        "        if  aGame.aMaze.RemainingPoints() == 0:\n",
        "            print('No bases left, board will be reset')\n",
        "        else:\n",
        "            print('Too many no win games, resetting board next time')\n",
        "        aGame.ResetBoard()\n",
        "        numNoWin = 0\n",
        "\n"
      ]
    }
  ],
  "metadata": {
    "colab": {
      "collapsed_sections": [],
      "name": "ProjectKoseKapmaca.ipynb adlı not defterinin kopyası",
      "provenance": []
    },
    "interpreter": {
      "hash": "31f2aee4e71d21fbe5cf8b01ff0e069b9275f58929596ceb00d14d90e3e16cd6"
    },
    "kernelspec": {
      "display_name": "Python 3.9.5 64-bit",
      "name": "python3"
    },
    "language_info": {
      "codemirror_mode": {
        "name": "ipython",
        "version": 3
      },
      "file_extension": ".py",
      "mimetype": "text/x-python",
      "name": "python",
      "nbconvert_exporter": "python",
      "pygments_lexer": "ipython3",
      "version": "3.9.5"
    }
  },
  "nbformat": 4,
  "nbformat_minor": 0
}